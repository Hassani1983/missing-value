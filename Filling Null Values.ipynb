{
 "cells": [
  {
   "cell_type": "code",
   "execution_count": 1,
   "id": "a508a907",
   "metadata": {},
   "outputs": [],
   "source": [
    "# Author : Mostafa.Hassani1983@gmail.com\n",
    "import pandas as pd\n",
    "from tqdm import tqdm_notebook\n",
    "from scipy.spatial.distance import cosine\n",
    "from sklearn.preprocessing import MinMaxScaler"
   ]
  },
  {
   "cell_type": "code",
   "execution_count": 1,
   "id": "ee3b895b",
   "metadata": {},
   "outputs": [],
   "source": [
    "DF_Sample = pd.read_csv(\"Write Your DataSet Address\")\n",
    "Columns = DF_Sample.columns\n",
    "Scaler = MinMaxScaler()\n",
    "DF_Sample[Columns] = Scaler.fit_transform(DF_Sample[Columns])"
   ]
  },
  {
   "cell_type": "code",
   "execution_count": null,
   "id": "339a2ca5",
   "metadata": {},
   "outputs": [],
   "source": [
    "# Fill Null Values With a Epcilon For Use In Next Part\n",
    "DF_Sample = DF_Sample.fillna(-0.000001)"
   ]
  },
  {
   "cell_type": "code",
   "execution_count": null,
   "id": "ad1032e2",
   "metadata": {},
   "outputs": [],
   "source": [
    "%%time\n",
    "# Search Similar Rows For Filling Null Values\n",
    "N_Row = len(DF_Sample)\n",
    "for Rows in tqdm_notebook(range(N_Row),desc=\"Rows : \"):\n",
    "    input_arr = list(DF_Sample.iloc[Rows])\n",
    "    Similarity_List = DF_Sample.apply(lambda row: 1-cosine(row,input_arr),axis=1).sort_values(ascending=False)\n",
    "#    Select columns containing value Zeroes\n",
    "    Filter_Zero = (DF_Sample.iloc[[Rows]] == -0.000001).any()\n",
    "    DF_Subset = DF_Sample.loc[:,Filter_Zero]\n",
    "    Columns_DF_Sub = DF_Subset.columns\n",
    "    for Col_Sub in Columns_DF_Sub:\n",
    "        for Sim in range(len(Similarity_List)):\n",
    "            if Rows!=Similarity_List.index[Sim] and \n",
    "                                        DF_Sample.at[Similarity_List.index[Sim],Col_Sub] != -0.000001 :\n",
    "                if Similarity_List.values[Sim]>0.75 :\n",
    "                    DF_Sample.at[Rows,Col_Sub] = DF_Sample.at[Similarity_List.index[Sim],Col_Sub]                \n",
    "                elif Similarity_List.values[Sim]>0.5 :\n",
    "                    DF_Temp = DF_Sample.iloc[(Similarity_List\n",
    "                                              [(Similarity_List>0.5) & (Similarity_List<0.99999)].index)]\n",
    "                    DF_Sample.at[Rows,Col_Sub] = DF_Temp[Col_Sub].mean()\n",
    "                elif Similarity_List.values[Sim]>0 :\n",
    "                    DF_Temp = DF_Sample.iloc[(Similarity_List\n",
    "                                              [(Similarity_List>0) & (Similarity_List<0.49999)].index)]\n",
    "                    DF_Sample.at[Rows,Col_Sub] = DF_Temp[Col_Sub].mean()\n",
    "                else:\n",
    "                    DF_Sample.at[Rows,Col_Sub] = DF_Sample[Col_Sub].mean()  # Mean, Median, mod, ....\n",
    "                break\n",
    "print(DF_Sample)"
   ]
  }
 ],
 "metadata": {
  "kernelspec": {
   "display_name": "Python 3",
   "language": "python",
   "name": "python3"
  },
  "language_info": {
   "codemirror_mode": {
    "name": "ipython",
    "version": 3
   },
   "file_extension": ".py",
   "mimetype": "text/x-python",
   "name": "python",
   "nbconvert_exporter": "python",
   "pygments_lexer": "ipython3",
   "version": "3.8.8"
  }
 },
 "nbformat": 4,
 "nbformat_minor": 5
}
